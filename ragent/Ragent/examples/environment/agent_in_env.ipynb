{
 "cells": [
  {
   "cell_type": "code",
   "execution_count": 5,
   "metadata": {},
   "outputs": [
    {
     "name": "stderr",
     "output_type": "stream",
     "text": [
      "2024-04-08 11:00:57.381 | INFO     | metagpt.const:get_metagpt_package_root:29 - Package root set to /Users/paer/Documents/work/codes/MetaGPT\n"
     ]
    }
   ],
   "source": [
    "import argparse\n",
    "import secrets\n",
    "import time\n",
    "import ray\n",
    "import os\n",
    "from metagpt.context import Context\n",
    "from metagpt.roles import ProductManager, Architect, ProjectManager\n",
    "from metagpt.schema import Message\n",
    "\n",
    "from ragent.agents.metagpt_agent import MetaGptAgent\n",
    "\n",
    "from ragent.core.environment import Environment\n",
    "from ragent.core.graph.graph import RagentGraph\n",
    "from ragent.core.schemas import AgentTask\n"
   ]
  },
  {
   "cell_type": "code",
   "execution_count": 17,
   "metadata": {},
   "outputs": [],
   "source": [
    "# 暂时传入 environment\n",
    "context = Context()"
   ]
  },
  {
   "cell_type": "code",
   "execution_count": 18,
   "metadata": {},
   "outputs": [],
   "source": [
    "def create_pm():\n",
    "    return ProductManager(context=Context())\n",
    "\n",
    "def create_architect():\n",
    "    return Architect(context=Context())\n",
    "\n",
    "def create_pj():\n",
    "    return ProductManager(context=Context())\n",
    "\n"
   ]
  },
  {
   "cell_type": "code",
   "execution_count": 19,
   "metadata": {},
   "outputs": [
    {
     "name": "stderr",
     "output_type": "stream",
     "text": [
      "\u001b[33m(raylet)\u001b[0m [2024-04-07 23:30:35,243 I 47177 1320267] logging.cc:230: Set ray log level from environment variable RAY_BACKEND_LOG_LEVEL to -1\n"
     ]
    }
   ],
   "source": [
    "pm = MetaGptAgent(create_pm, name=\"ProductManager\")\n",
    "architect = MetaGptAgent(create_architect, name=\"Architect\")\n",
    "pj = MetaGptAgent(create_pj, name=\"ProjectManager\")"
   ]
  },
  {
   "cell_type": "code",
   "execution_count": 20,
   "metadata": {},
   "outputs": [
    {
     "name": "stderr",
     "output_type": "stream",
     "text": [
      "\u001b[33m(raylet)\u001b[0m [2024-04-07 23:30:37,038 I 47180 1320412] logging.cc:230: Set ray log level from environment variable RAY_BACKEND_LOG_LEVEL to -1\n"
     ]
    }
   ],
   "source": [
    "env = Environment()"
   ]
  },
  {
   "cell_type": "code",
   "execution_count": 21,
   "metadata": {},
   "outputs": [],
   "source": [
    "env.join(pm)\n",
    "env.join(architect)\n",
    "env.join(pj)"
   ]
  },
  {
   "cell_type": "code",
   "execution_count": 22,
   "metadata": {},
   "outputs": [
    {
     "name": "stderr",
     "output_type": "stream",
     "text": [
      "2024-04-07 23:30:39 INFO environment.py:85 [ProJectManager]: Starting environment ExampleEnvironment with 3 agents.\n",
      "2024-04-07 23:30:39 INFO environment.py:85 [ProJectManager]: Starting environment ExampleEnvironment with 3 agents.\n",
      "2024-04-07 23:30:40 INFO environment.py:94 [ProJectManager]: Successfully started the environment ExampleEnvironment\n",
      "2024-04-07 23:30:40 INFO environment.py:94 [ProJectManager]: Successfully started the environment ExampleEnvironment\n"
     ]
    }
   ],
   "source": [
    "env.run()"
   ]
  },
  {
   "cell_type": "code",
   "execution_count": 23,
   "metadata": {},
   "outputs": [
    {
     "name": "stderr",
     "output_type": "stream",
     "text": [
      "2024-04-07 23:31:56 INFO environment.py:237 [ProJectManager]: Start querying task 59ec9521 with timeout -1 seconds, interval 0.1s.\n",
      "2024-04-07 23:31:56 INFO environment.py:237 [ProJectManager]: Start querying task 59ec9521 with timeout -1 seconds, interval 0.1s.\n",
      "2024-04-07 23:31:56 INFO environment.py:145 [ProJectManager]: Publishing task 59ec9521 to {'ProductManager': <ragent.agents.metagpt_agent.MetaGptAgent object at 0x7f79a6c494f0>, 'Architect': <ragent.agents.metagpt_agent.MetaGptAgent object at 0x7f79a6c497f0>, 'ProJectManager': <ragent.agents.metagpt_agent.MetaGptAgent object at 0x7f79a856a9d0>}\n",
      "2024-04-07 23:31:56 INFO environment.py:145 [ProJectManager]: Publishing task 59ec9521 to {'ProductManager': <ragent.agents.metagpt_agent.MetaGptAgent object at 0x7f79a6c494f0>, 'Architect': <ragent.agents.metagpt_agent.MetaGptAgent object at 0x7f79a6c497f0>, 'ProJectManager': <ragent.agents.metagpt_agent.MetaGptAgent object at 0x7f79a856a9d0>}\n",
      "2024-04-07 23:31:56 INFO agent.py:191 [ProJectManager]: Agent ProductManager starts running task 59ec9521\n",
      "2024-04-07 23:31:56 INFO agent.py:191 [ProJectManager]: Agent ProductManager starts running task 59ec9521\n",
      "2024-04-07 23:31:56.370 | DEBUG    | metagpt.roles.role:_observe:439 - Alice(Product Manager) observed: ['user: Design a snake game,...']\n",
      "2024-04-07 23:31:56.374 | DEBUG    | metagpt.roles.role:_set_state:334 - actions=[PrepareDocuments, WritePRD], state=0\n",
      "2024-04-07 23:31:56.380 | DEBUG    | metagpt.roles.role:_react:470 - Alice(Product Manager): self.rc.state=0, will do PrepareDocuments\n",
      "2024-04-07 23:31:56.384 | INFO     | metagpt.roles.role:_act:399 - Alice(Product Manager): to do PrepareDocuments(PrepareDocuments)\n",
      "2024-04-07 23:31:56 INFO agent.py:191 [ProJectManager]: Agent Architect starts running task 59ec9521\n",
      "2024-04-07 23:31:56 INFO agent.py:191 [ProJectManager]: Agent Architect starts running task 59ec9521\n",
      "2024-04-07 23:31:56.419 | DEBUG    | metagpt.roles.role:run:555 - Bob(Architect): no news. waiting.\n",
      "2024-04-07 23:31:56 INFO agent.py:191 [ProJectManager]: Agent ProJectManager starts running task 59ec9521\n",
      "2024-04-07 23:31:56 INFO agent.py:191 [ProJectManager]: Agent ProJectManager starts running task 59ec9521\n",
      "2024-04-07 23:31:56 INFO agent.py:194 [ProJectManager]: Agent Architect finishes task 59ec9521\n",
      "2024-04-07 23:31:56 INFO agent.py:194 [ProJectManager]: Agent Architect finishes task 59ec9521\n",
      "2024-04-07 23:31:56.425 | DEBUG    | metagpt.roles.role:_observe:439 - Alice(Product Manager) observed: ['user: Design a snake game,...']\n",
      "2024-04-07 23:31:56.427 | DEBUG    | metagpt.roles.role:_set_state:334 - actions=[PrepareDocuments, WritePRD], state=0\n",
      "2024-04-07 23:31:56.431 | DEBUG    | metagpt.roles.role:_react:470 - Alice(Product Manager): self.rc.state=0, will do PrepareDocuments\n",
      "2024-04-07 23:31:56.432 | INFO     | metagpt.roles.role:_act:399 - Alice(Product Manager): to do PrepareDocuments(PrepareDocuments)\n",
      "2024-04-07 23:31:56.479 | WARNING  | metagpt.utils.common:wrapper:571 - There is a exception in role's execution, in order to resume, we delete the newest role communication message in the role's memory.\n",
      "Exception in thread agent_ProductManager_polling_thread:\n",
      "Traceback (most recent call last):\n",
      "  File \"/Users/paer/Documents/work/codes/MetaGPT/metagpt/utils/common.py\", line 562, in wrapper\n",
      "    return await func(self, *args, **kwargs)\n",
      "  File \"/Users/paer/Documents/work/codes/MetaGPT/metagpt/roles/role.py\", line 558, in run\n",
      "    rsp = await self.react()\n",
      "  File \"/Users/paer/Documents/work/codes/MetaGPT/metagpt/roles/role.py\", line 525, in react\n",
      "    rsp = await self._react()\n",
      "  File \"/Users/paer/Documents/work/codes/MetaGPT/metagpt/roles/role.py\", line 471, in _react\n",
      "    rsp = await self._act()\n",
      "  File \"/Users/paer/Documents/work/codes/MetaGPT/metagpt/roles/role.py\", line 400, in _act\n",
      "    response = await self.rc.todo.run(self.rc.history)\n",
      "  File \"/Users/paer/Documents/work/codes/MetaGPT/metagpt/actions/prepare_documents.py\", line 46, in run\n",
      "    self._init_repo()\n",
      "  File \"/Users/paer/Documents/work/codes/MetaGPT/metagpt/actions/prepare_documents.py\", line 41, in _init_repo\n",
      "    self.context.git_repo = GitRepository(local_path=path, auto_init=True)\n",
      "  File \"/Users/paer/Documents/work/codes/MetaGPT/metagpt/utils/git_repository.py\", line 55, in __init__\n",
      "    self.open(local_path=local_path, auto_init=auto_init)\n",
      "  File \"/Users/paer/Documents/work/codes/MetaGPT/metagpt/utils/git_repository.py\", line 71, in open\n",
      "    return self._init(local_path)\n",
      "  File \"/Users/paer/Documents/work/codes/MetaGPT/metagpt/utils/git_repository.py\", line 78, in _init\n",
      "    self._repository = Repo.init(path=Path(local_path))\n",
      "  File \"/Users/paer/opt/anaconda3/envs/ragent/lib/python3.9/site-packages/git/repo/base.py\", line 1169, in init\n",
      "    git.init(**kwargs)\n",
      "  File \"/Users/paer/opt/anaconda3/envs/ragent/lib/python3.9/site-packages/git/cmd.py\", line 736, in <lambda>\n",
      "    return lambda *args, **kwargs: self._call_process(name, *args, **kwargs)\n",
      "  File \"/Users/paer/opt/anaconda3/envs/ragent/lib/python3.9/site-packages/git/cmd.py\", line 1316, in _call_process\n",
      "    return self.execute(call, **exec_kwargs)\n",
      "  File \"/Users/paer/opt/anaconda3/envs/ragent/lib/python3.9/site-packages/git/cmd.py\", line 1111, in execute\n",
      "    raise GitCommandError(redacted_command, status, stderr_value, stdout_value)\n",
      "git.exc.GitCommandError: Cmd('git') failed due to: exit code(128)\n",
      "  cmdline: git init\n",
      "  stderr: 'fatal: unable to get current working directory: No such file or directory'\n",
      "\n",
      "During handling of the above exception, another exception occurred:\n",
      "\n",
      "Traceback (most recent call last):\n",
      "  File \"/Users/paer/opt/anaconda3/envs/ragent/lib/python3.9/threading.py\", line 980, in _bootstrap_inner\n",
      "    self.run()\n",
      "  File \"/Users/paer/opt/anaconda3/envs/ragent/lib/python3.9/threading.py\", line 917, in run\n",
      "    self._target(*self._args, **self._kwargs)\n",
      "  File \"/Users/paer/Documents/work/codes/X/ray_common_libs/Ragent/ragent/core/tools/msg_poller.py\", line 44, in _loop\n",
      "    res = self._msg_handler(message)\n",
      "  File \"/Users/paer/Documents/work/codes/X/ray_common_libs/Ragent/ragent/core/agent.py\", line 193, in run_task\n",
      "    result: AgentTask = self.invoke(agent_task)\n",
      "  File \"/Users/paer/Documents/work/codes/X/ray_common_libs/Ragent/ragent/agents/metagpt_agent.py\", line 53, in invoke\n",
      "    result = future.result()\n",
      "  File \"/Users/paer/opt/anaconda3/envs/ragent/lib/python3.9/concurrent/futures/_base.py\", line 446, in result\n",
      "    return self.__get_result()\n",
      "  File \"/Users/paer/opt/anaconda3/envs/ragent/lib/python3.9/concurrent/futures/_base.py\", line 391, in __get_result\n",
      "    raise self._exception\n",
      "  File \"/Users/paer/Documents/work/codes/MetaGPT/metagpt/utils/common.py\", line 584, in wrapper\n",
      "    raise Exception(format_trackback_info(limit=None))\n",
      "Exception: Traceback (most recent call last):\n",
      "  File \"/Users/paer/Documents/work/codes/MetaGPT/metagpt/utils/common.py\", line 562, in wrapper\n",
      "    return await func(self, *args, **kwargs)\n",
      "  File \"/Users/paer/Documents/work/codes/MetaGPT/metagpt/roles/role.py\", line 558, in run\n",
      "    rsp = await self.react()\n",
      "  File \"/Users/paer/Documents/work/codes/MetaGPT/metagpt/roles/role.py\", line 525, in react\n",
      "    rsp = await self._react()\n",
      "  File \"/Users/paer/Documents/work/codes/MetaGPT/metagpt/roles/role.py\", line 471, in _react\n",
      "    rsp = await self._act()\n",
      "  File \"/Users/paer/Documents/work/codes/MetaGPT/metagpt/roles/role.py\", line 400, in _act\n",
      "    response = await self.rc.todo.run(self.rc.history)\n",
      "  File \"/Users/paer/Documents/work/codes/MetaGPT/metagpt/actions/prepare_documents.py\", line 46, in run\n",
      "    self._init_repo()\n",
      "  File \"/Users/paer/Documents/work/codes/MetaGPT/metagpt/actions/prepare_documents.py\", line 41, in _init_repo\n",
      "    self.context.git_repo = GitRepository(local_path=path, auto_init=True)\n",
      "  File \"/Users/paer/Documents/work/codes/MetaGPT/metagpt/utils/git_repository.py\", line 55, in __init__\n",
      "    self.open(local_path=local_path, auto_init=auto_init)\n",
      "  File \"/Users/paer/Documents/work/codes/MetaGPT/metagpt/utils/git_repository.py\", line 71, in open\n",
      "    return self._init(local_path)\n",
      "  File \"/Users/paer/Documents/work/codes/MetaGPT/metagpt/utils/git_repository.py\", line 78, in _init\n",
      "    self._repository = Repo.init(path=Path(local_path))\n",
      "  File \"/Users/paer/opt/anaconda3/envs/ragent/lib/python3.9/site-packages/git/repo/base.py\", line 1169, in init\n",
      "    git.init(**kwargs)\n",
      "  File \"/Users/paer/opt/anaconda3/envs/ragent/lib/python3.9/site-packages/git/cmd.py\", line 736, in <lambda>\n",
      "    return lambda *args, **kwargs: self._call_process(name, *args, **kwargs)\n",
      "  File \"/Users/paer/opt/anaconda3/envs/ragent/lib/python3.9/site-packages/git/cmd.py\", line 1316, in _call_process\n",
      "    return self.execute(call, **exec_kwargs)\n",
      "  File \"/Users/paer/opt/anaconda3/envs/ragent/lib/python3.9/site-packages/git/cmd.py\", line 1111, in execute\n",
      "    raise GitCommandError(redacted_command, status, stderr_value, stdout_value)\n",
      "git.exc.GitCommandError: Cmd('git') failed due to: exit code(128)\n",
      "  cmdline: git init\n",
      "  stderr: 'fatal: unable to get current working directory: No such file or directory'\n",
      "\n",
      "2024-04-07 23:31:56.813 | INFO     | metagpt.utils.file_repository:save:60 - save to: /Users/paer/Documents/work/codes/MetaGPT/workspace/20240407233156/docs/requirement.txt\n",
      "2024-04-07 23:31:56.816 | DEBUG    | metagpt.roles.role:_set_state:334 - actions=[PrepareDocuments, WritePRD], state=-1\n",
      "2024-04-07 23:31:56 INFO agent.py:194 [ProJectManager]: Agent ProJectManager finishes task 59ec9521\n",
      "2024-04-07 23:31:56 INFO agent.py:194 [ProJectManager]: Agent ProJectManager finishes task 59ec9521\n",
      "2024-04-07 23:31:56 INFO agent.py:207 [ProJectManager]: Task reply de1b87d3e89e44f5961f5eaa5dc39a2f.\n",
      "2024-04-07 23:31:56 INFO agent.py:207 [ProJectManager]: Task reply de1b87d3e89e44f5961f5eaa5dc39a2f.\n",
      "\u001b[36m(_QueueActor pid=47180)\u001b[0m 2024-04-07 23:31:57.003 | INFO     | metagpt.const:get_metagpt_package_root:29 - Package root set to /Users/paer/Documents/work/codes/MetaGPT\n",
      "2024-04-07 23:31:57 INFO environment.py:212 [ProJectManager]: Task reply de1b87d3e89e44f5961f5eaa5dc39a2f need next round, putting into task queue.\n",
      "2024-04-07 23:31:57 INFO environment.py:212 [ProJectManager]: Task reply de1b87d3e89e44f5961f5eaa5dc39a2f need next round, putting into task queue.\n",
      "2024-04-07 23:31:57 INFO environment.py:145 [ProJectManager]: Publishing task de1b87d3e89e44f5961f5eaa5dc39a2f to {'ProductManager': <ragent.agents.metagpt_agent.MetaGptAgent object at 0x7f79a6c494f0>, 'Architect': <ragent.agents.metagpt_agent.MetaGptAgent object at 0x7f79a6c497f0>, 'ProJectManager': <ragent.agents.metagpt_agent.MetaGptAgent object at 0x7f79a856a9d0>}\n",
      "2024-04-07 23:31:57 INFO environment.py:145 [ProJectManager]: Publishing task de1b87d3e89e44f5961f5eaa5dc39a2f to {'ProductManager': <ragent.agents.metagpt_agent.MetaGptAgent object at 0x7f79a6c494f0>, 'Architect': <ragent.agents.metagpt_agent.MetaGptAgent object at 0x7f79a6c497f0>, 'ProJectManager': <ragent.agents.metagpt_agent.MetaGptAgent object at 0x7f79a856a9d0>}\n",
      "2024-04-07 23:31:58 INFO agent.py:191 [ProJectManager]: Agent ProJectManager starts running task de1b87d3e89e44f5961f5eaa5dc39a2f\n",
      "2024-04-07 23:31:58 INFO agent.py:191 [ProJectManager]: Agent ProJectManager starts running task de1b87d3e89e44f5961f5eaa5dc39a2f\n",
      "2024-04-07 23:31:58.440 | DEBUG    | metagpt.roles.role:_observe:439 - Alice(Product Manager) observed: ['user: Design a snake game,...']\n",
      "2024-04-07 23:31:58.441 | DEBUG    | metagpt.roles.role:_set_state:334 - actions=[PrepareDocuments, WritePRD], state=1\n",
      "2024-04-07 23:31:58.442 | DEBUG    | metagpt.roles.role:_react:470 - Alice(Product Manager): self.rc.state=1, will do WritePRD\n",
      "2024-04-07 23:31:58.444 | INFO     | metagpt.roles.role:_act:399 - Alice(Product Manager): to do WritePRD(WritePRD)\n",
      "2024-04-07 23:31:58.449 | INFO     | metagpt.actions.write_prd:run:86 - New requirement detected: Design a snake game, give me PRD, Architect design and documents\n",
      "2024-04-07 23:31:58.452 | DEBUG    | metagpt.provider.base_llm:aask:88 - [{'role': 'system', 'content': 'You are a Product Manager, named Alice, your goal is efficiently create a successful product that meets market demands and user expectations. the constraint is utilize the same language as the user requirements for seamless communication. '}, {'role': 'user', 'content': '\\n## context\\n\\n### Project Name\\n\\n\\n### Original Requirements\\nDesign a snake game, give me PRD, Architect design and documents\\n\\n### Search Information\\n-\\n\\n\\n-----\\n\\n## format example\\n[CONTENT]\\n{\\n    \"Language\": \"en_us\",\\n    \"Programming Language\": \"Python\",\\n    \"Original Requirements\": \"Create a 2048 game\",\\n    \"Project Name\": \"game_2048\",\\n    \"Product Goals\": [\\n        \"Create an engaging user experience\",\\n        \"Improve accessibility, be responsive\",\\n        \"More beautiful UI\"\\n    ],\\n    \"User Stories\": [\\n        \"As a player, I want to be able to choose difficulty levels\",\\n        \"As a player, I want to see my score after each game\",\\n        \"As a player, I want to get restart button when I lose\",\\n        \"As a player, I want to see beautiful UI that make me feel good\",\\n        \"As a player, I want to play game via mobile phone\"\\n    ],\\n    \"Competitive Analysis\": [\\n        \"2048 Game A: Simple interface, lacks responsive features\",\\n        \"play2048.co: Beautiful and responsive UI with my best score shown\",\\n        \"2048game.com: Responsive UI with my best score shown, but many ads\"\\n    ],\\n    \"Competitive Quadrant Chart\": \"quadrantChart\\\\n    title \\\\\"Reach and engagement of campaigns\\\\\"\\\\n    x-axis \\\\\"Low Reach\\\\\" --> \\\\\"High Reach\\\\\"\\\\n    y-axis \\\\\"Low Engagement\\\\\" --> \\\\\"High Engagement\\\\\"\\\\n    quadrant-1 \\\\\"We should expand\\\\\"\\\\n    quadrant-2 \\\\\"Need to promote\\\\\"\\\\n    quadrant-3 \\\\\"Re-evaluate\\\\\"\\\\n    quadrant-4 \\\\\"May be improved\\\\\"\\\\n    \\\\\"Campaign A\\\\\": [0.3, 0.6]\\\\n    \\\\\"Campaign B\\\\\": [0.45, 0.23]\\\\n    \\\\\"Campaign C\\\\\": [0.57, 0.69]\\\\n    \\\\\"Campaign D\\\\\": [0.78, 0.34]\\\\n    \\\\\"Campaign E\\\\\": [0.40, 0.34]\\\\n    \\\\\"Campaign F\\\\\": [0.35, 0.78]\\\\n    \\\\\"Our Target Product\\\\\": [0.5, 0.6]\",\\n    \"Requirement Analysis\": \"\",\\n    \"Requirement Pool\": [\\n        [\\n            \"P0\",\\n            \"The main code ...\"\\n        ],\\n        [\\n            \"P0\",\\n            \"The game algorithm ...\"\\n        ]\\n    ],\\n    \"UI Design draft\": \"Basic function description with a simple style and layout.\",\\n    \"Anything UNCLEAR\": \"\"\\n}\\n[/CONTENT]\\n\\n## nodes: \"<node>: <type>  # <instruction>\"\\n- Language: <class \\'str\\'>  # Provide the language used in the project, typically matching the user\\'s requirement language.\\n- Programming Language: <class \\'str\\'>  # Python/JavaScript or other mainstream programming language.\\n- Original Requirements: <class \\'str\\'>  # Place the original user\\'s requirements here.\\n- Project Name: <class \\'str\\'>  # According to the content of \"Original Requirements,\" name the project using snake case style , like \\'game_2048\\' or \\'simple_crm.\\n- Product Goals: typing.List[str]  # Provide up to three clear, orthogonal product goals.\\n- User Stories: typing.List[str]  # Provide up to 3 to 5 scenario-based user stories.\\n- Competitive Analysis: typing.List[str]  # Provide 5 to 7 competitive products.\\n- Competitive Quadrant Chart: <class \\'str\\'>  # Use mermaid quadrantChart syntax. Distribute scores evenly between 0 and 1\\n- Requirement Analysis: <class \\'str\\'>  # Provide a detailed analysis of the requirements.\\n- Requirement Pool: typing.List[typing.List[str]]  # List down the top-5 requirements with their priority (P0, P1, P2).\\n- UI Design draft: <class \\'str\\'>  # Provide a simple description of UI elements, functions, style, and layout.\\n- Anything UNCLEAR: <class \\'str\\'>  # Mention any aspects of the project that are unclear and try to clarify them.\\n\\n\\n## constraint\\nLanguage: Please use the same language as Human INPUT.\\nFormat: output wrapped inside [CONTENT][/CONTENT] like format example, nothing else.\\n\\n## action\\nFollow instructions of nodes, generate output and make sure it follows the format example.\\n'}]\n",
      "2024-04-07 23:31:59 INFO _client.py:1773 [ProJectManager]: HTTP Request: POST https://api.moonshot.cn/v1/chat/completions \"HTTP/1.1 200 OK\"\n",
      "2024-04-07 23:31:59 INFO _client.py:1773 [ProJectManager]: HTTP Request: POST https://api.moonshot.cn/v1/chat/completions \"HTTP/1.1 200 OK\"\n"
     ]
    },
    {
     "name": "stdout",
     "output_type": "stream",
     "text": [
      "[CONTENT]\n",
      "{\n",
      "    \"Language\": \"zh_cn\",\n",
      "    \"Programming Language\": \"Python\",\n",
      "    \"Original Requirements\": \"设计一个贪吃蛇游戏，给我PRD，架构设计和文档\",\n",
      "    \"Project Name\": \"snake_game\",\n",
      "    \"Product Goals\": [\n",
      "        \"创建一个吸引人的用户体验\",\n",
      "        \"提高可访问性，使其响应式\",\n",
      "        \"增加游戏的可玩性\"\n",
      "    ],\n",
      "    \"User Stories\": [\n",
      "        \"作为一个玩家，我希望能够选择不同的难度级别\",\n",
      "        \"作为一个玩家，我希望在每局游戏后能看到我的得分\",\n",
      "        \"作为一个玩家，我希望在我失败后有一个重新开始的按钮\",\n",
      "        \"作为一个玩家，我希望游戏操作简单，容易上手\"\n",
      "    ],\n",
      "    \"Competitive Analysis\": [\n",
      "        \"贪吃蛇游戏A：界面简单，缺乏响应式特性\",\n",
      "        \"贪吃蛇游戏B：界面美观，响应式良好，但广告较多\",\n",
      "        \"贪吃蛇游戏C：具有挑战性的关卡设计，但用户界面(UI)不够友好\"\n",
      "    ],\n",
      "    \"Competitive Quadrant Chart\": \"quadrantChart\\n    title \\\"各产品市场占有率与用户满意度\\\"\\n    x-axis \\\"低市场占有率\\\" --> \\\"高市场占有率\\\"\\n    y-axis \\\"低用户满意度\\\" --> \\\"高用户满意度\\\"\\n    quadrant-1 \\\"需提升品质\\\"\\n    quadrant-2 \\\"需扩大市场\\\"\\n    quadrant-3 \\\"需增加推广\\\"\\n    quadrant-4 \\\"需改善服务\\\"\\n    \\\"产品A\\\": [0.2, 0.4]\\n    \\\"产品B\\\": [0.6, 0.8]\\n    \\\"产品C\\\": [0.3, 0.6]\\n    \\\"产品D\\\": [0.7, 0.3]\\n    \\\"产品E\\\": [0.4, 0.7]\\n    \\\"我们的目标产品\\\": [0.5, 0.5]\",\n",
      "    \"Requirement Analysis\": \"根据用户需求，我们需要设计一个具有多种难度选择、得分统计、重新开始功能的贪吃蛇游戏。同时，为了提高游戏的可玩性，我们还需要考虑游戏的响应速度和用户界面(UI)的友好度。\",\n",
      "    \"Requirement Pool\": [\n",
      "        [\n",
      "            \"P0\",\n",
      "            \"完成基本的游戏逻辑和用户界面(UI)设计\"\n",
      "        ],\n",
      "        [\n",
      "            \"P1\",\n",
      "            \"实现游戏得分统计和重新开始功能\"\n",
      "        ],\n",
      "        [\n",
      "            \"P2\",\n",
      "            \"优化游戏的响应速度和用户体验\"\n",
      "        ]\n",
      "    ],\n",
      "    \"UI Design draft\": \"游戏界面应简洁明了，主要元素包括游戏区域、得分显示、难度选择和重新开始按钮。\",\n",
      "    \"Anything UNCLEAR\": \"当前需求是否需要支持多平台，如iOS和Android？\"\n",
      "}\n",
      "[/CONTENT]\n",
      "Warning: model not found. Using cl100k_base encoding.\n"
     ]
    },
    {
     "name": "stderr",
     "output_type": "stream",
     "text": [
      "2024-04-07 23:32:25.451 | WARNING  | metagpt.provider.openai_api:_calc_usage:271 - usage calculation failed: num_tokens_from_messages() is not implemented for model moonshot-v1-8k. See https://github.com/openai/openai-python/blob/main/chatml.md for information on how messages are converted to tokens.\n",
      "2024-04-07 23:32:25.453 | WARNING  | metagpt.utils.cost_manager:update_cost:45 - Model moonshot-v1-8k not found in TOKEN_COSTS.\n",
      "2024-04-07 23:32:25.454 | DEBUG    | metagpt.actions.action_node:_aask_v1:423 - llm raw output:\n",
      "[CONTENT]\n",
      "{\n",
      "    \"Language\": \"zh_cn\",\n",
      "    \"Programming Language\": \"Python\",\n",
      "    \"Original Requirements\": \"设计一个贪吃蛇游戏，给我PRD，架构设计和文档\",\n",
      "    \"Project Name\": \"snake_game\",\n",
      "    \"Product Goals\": [\n",
      "        \"创建一个吸引人的用户体验\",\n",
      "        \"提高可访问性，使其响应式\",\n",
      "        \"增加游戏的可玩性\"\n",
      "    ],\n",
      "    \"User Stories\": [\n",
      "        \"作为一个玩家，我希望能够选择不同的难度级别\",\n",
      "        \"作为一个玩家，我希望在每局游戏后能看到我的得分\",\n",
      "        \"作为一个玩家，我希望在我失败后有一个重新开始的按钮\",\n",
      "        \"作为一个玩家，我希望游戏操作简单，容易上手\"\n",
      "    ],\n",
      "    \"Competitive Analysis\": [\n",
      "        \"贪吃蛇游戏A：界面简单，缺乏响应式特性\",\n",
      "        \"贪吃蛇游戏B：界面美观，响应式良好，但广告较多\",\n",
      "        \"贪吃蛇游戏C：具有挑战性的关卡设计，但用户界面(UI)不够友好\"\n",
      "    ],\n",
      "    \"Competitive Quadrant Chart\": \"quadrantChart\\n    title \\\"各产品市场占有率与用户满意度\\\"\\n    x-axis \\\"低市场占有率\\\" --> \\\"高市场占有率\\\"\\n    y-axis \\\"低用户满意度\\\" --> \\\"高用户满意度\\\"\\n    quadrant-1 \\\"需提升品质\\\"\\n    quadrant-2 \\\"需扩大市场\\\"\\n    quadrant-3 \\\"需增加推广\\\"\\n    quadrant-4 \\\"需改善服务\\\"\\n    \\\"产品A\\\": [0.2, 0.4]\\n    \\\"产品B\\\": [0.6, 0.8]\\n    \\\"产品C\\\": [0.3, 0.6]\\n    \\\"产品D\\\": [0.7, 0.3]\\n    \\\"产品E\\\": [0.4, 0.7]\\n    \\\"我们的目标产品\\\": [0.5, 0.5]\",\n",
      "    \"Requirement Analysis\": \"根据用户需求，我们需要设计一个具有多种难度选择、得分统计、重新开始功能的贪吃蛇游戏。同时，为了提高游戏的可玩性，我们还需要考虑游戏的响应速度和用户界面(UI)的友好度。\",\n",
      "    \"Requirement Pool\": [\n",
      "        [\n",
      "            \"P0\",\n",
      "            \"完成基本的游戏逻辑和用户界面(UI)设计\"\n",
      "        ],\n",
      "        [\n",
      "            \"P1\",\n",
      "            \"实现游戏得分统计和重新开始功能\"\n",
      "        ],\n",
      "        [\n",
      "            \"P2\",\n",
      "            \"优化游戏的响应速度和用户体验\"\n",
      "        ]\n",
      "    ],\n",
      "    \"UI Design draft\": \"游戏界面应简洁明了，主要元素包括游戏区域、得分显示、难度选择和重新开始按钮。\",\n",
      "    \"Anything UNCLEAR\": \"当前需求是否需要支持多平台，如iOS和Android？\"\n",
      "}\n",
      "[/CONTENT]\n",
      "2024-04-07 23:32:25.470 | DEBUG    | metagpt.actions.action_node:_aask_v1:433 - parsed_data:\n",
      "{'Language': 'zh_cn', 'Programming Language': 'Python', 'Original Requirements': '设计一个贪吃蛇游戏，给我PRD，架构设计和文档', 'Project Name': 'snake_game', 'Product Goals': ['创建一个吸引人的用户体验', '提高可访问性，使其响应式', '增加游戏的可玩性'], 'User Stories': ['作为一个玩家，我希望能够选择不同的难度级别', '作为一个玩家，我希望在每局游戏后能看到我的得分', '作为一个玩家，我希望在我失败后有一个重新开始的按钮', '作为一个玩家，我希望游戏操作简单，容易上手'], 'Competitive Analysis': ['贪吃蛇游戏A：界面简单，缺乏响应式特性', '贪吃蛇游戏B：界面美观，响应式良好，但广告较多', '贪吃蛇游戏C：具有挑战性的关卡设计，但用户界面(UI)不够友好'], 'Competitive Quadrant Chart': 'quadrantChart\\n    title \"各产品市场占有率与用户满意度\"\\n    x-axis \"低市场占有率\" --> \"高市场占有率\"\\n    y-axis \"低用户满意度\" --> \"高用户满意度\"\\n    quadrant-1 \"需提升品质\"\\n    quadrant-2 \"需扩大市场\"\\n    quadrant-3 \"需增加推广\"\\n    quadrant-4 \"需改善服务\"\\n    \"产品A\": [0.2, 0.4]\\n    \"产品B\": [0.6, 0.8]\\n    \"产品C\": [0.3, 0.6]\\n    \"产品D\": [0.7, 0.3]\\n    \"产品E\": [0.4, 0.7]\\n    \"我们的目标产品\": [0.5, 0.5]', 'Requirement Analysis': '根据用户需求，我们需要设计一个具有多种难度选择、得分统计、重新开始功能的贪吃蛇游戏。同时，为了提高游戏的可玩性，我们还需要考虑游戏的响应速度和用户界面(UI)的友好度。', 'Requirement Pool': [['P0', '完成基本的游戏逻辑和用户界面(UI)设计'], ['P1', '实现游戏得分统计和重新开始功能'], ['P2', '优化游戏的响应速度和用户体验']], 'UI Design draft': '游戏界面应简洁明了，主要元素包括游戏区域、得分显示、难度选择和重新开始按钮。', 'Anything UNCLEAR': '当前需求是否需要支持多平台，如iOS和Android？'}\n",
      "2024-04-07 23:32:25.473 | INFO     | metagpt.utils.git_repository:rename_root:203 - Delete directory /Users/paer/Documents/work/codes/MetaGPT/workspace/snake_game\n",
      "2024-04-07 23:32:25.502 | INFO     | metagpt.utils.git_repository:rename_root:219 - Rename directory /Users/paer/Documents/work/codes/MetaGPT/workspace/20240407233156 to /Users/paer/Documents/work/codes/MetaGPT/workspace/snake_game\n",
      "2024-04-07 23:32:25.510 | INFO     | metagpt.utils.file_repository:save:60 - save to: /Users/paer/Documents/work/codes/MetaGPT/workspace/snake_game/docs/prd/20240407233225.json\n",
      "2024-04-07 23:32:25.538 | INFO     | metagpt.utils.mermaid:mermaid_to_file:48 - Generating /Users/paer/Documents/work/codes/MetaGPT/workspace/snake_game/resources/competitive_analysis/20240407233225.pdf..\n",
      "2024-04-07 23:32:26.081 | WARNING  | metagpt.utils.mermaid:mermaid_to_file:74 - internal/process/esm_loader.js:74\n",
      "    internalBinding('errors').triggerUncaughtException(\n",
      "                              ^\n",
      "\n",
      "Error [ERR_PACKAGE_PATH_NOT_EXPORTED]: Package subpath './internal/puppeteer-core.js' is not defined by \"exports\" in /Users/paer/.npm-global/lib/node_modules/@mermaid-js/mermaid-cli/node_modules/puppeteer-core/package.json imported from /Users/paer/.npm-global/lib/node_modules/@mermaid-js/mermaid-cli/node_modules/puppeteer/lib/esm/puppeteer/puppeteer.js\n",
      "    at throwExportsNotFound (internal/modules/esm/resolve.js:289:9)\n",
      "    at packageExportsResolve (internal/modules/esm/resolve.js:534:3)\n",
      "    at packageResolve (internal/modules/esm/resolve.js:665:14)\n",
      "    at moduleResolve (internal/modules/esm/resolve.js:716:14)\n",
      "    at Loader.defaultResolve [as _resolve] (internal/modules/esm/resolve.js:809:11)\n",
      "    at Loader.resolve (internal/modules/esm/loader.js:85:40)\n",
      "    at Loader.getModuleJob (internal/modules/esm/loader.js:229:28)\n",
      "    at ModuleWrap.<anonymous> (internal/modules/esm/module_job.js:51:40)\n",
      "    at link (internal/modules/esm/module_job.js:50:36) {\n",
      "  code: 'ERR_PACKAGE_PATH_NOT_EXPORTED'\n",
      "}\n",
      "\n",
      "2024-04-07 23:32:26.083 | INFO     | metagpt.utils.mermaid:mermaid_to_file:48 - Generating /Users/paer/Documents/work/codes/MetaGPT/workspace/snake_game/resources/competitive_analysis/20240407233225.svg..\n",
      "2024-04-07 23:32:26.216 | WARNING  | metagpt.utils.mermaid:mermaid_to_file:74 - internal/process/esm_loader.js:74\n",
      "    internalBinding('errors').triggerUncaughtException(\n",
      "                              ^\n",
      "\n",
      "Error [ERR_PACKAGE_PATH_NOT_EXPORTED]: Package subpath './internal/puppeteer-core.js' is not defined by \"exports\" in /Users/paer/.npm-global/lib/node_modules/@mermaid-js/mermaid-cli/node_modules/puppeteer-core/package.json imported from /Users/paer/.npm-global/lib/node_modules/@mermaid-js/mermaid-cli/node_modules/puppeteer/lib/esm/puppeteer/puppeteer.js\n",
      "    at throwExportsNotFound (internal/modules/esm/resolve.js:289:9)\n",
      "    at packageExportsResolve (internal/modules/esm/resolve.js:534:3)\n",
      "    at packageResolve (internal/modules/esm/resolve.js:665:14)\n",
      "    at moduleResolve (internal/modules/esm/resolve.js:716:14)\n",
      "    at Loader.defaultResolve [as _resolve] (internal/modules/esm/resolve.js:809:11)\n",
      "    at Loader.resolve (internal/modules/esm/loader.js:85:40)\n",
      "    at Loader.getModuleJob (internal/modules/esm/loader.js:229:28)\n",
      "    at ModuleWrap.<anonymous> (internal/modules/esm/module_job.js:51:40)\n",
      "    at link (internal/modules/esm/module_job.js:50:36) {\n",
      "  code: 'ERR_PACKAGE_PATH_NOT_EXPORTED'\n",
      "}\n",
      "\n",
      "2024-04-07 23:32:26.217 | INFO     | metagpt.utils.mermaid:mermaid_to_file:48 - Generating /Users/paer/Documents/work/codes/MetaGPT/workspace/snake_game/resources/competitive_analysis/20240407233225.png..\n",
      "2024-04-07 23:32:26.337 | WARNING  | metagpt.utils.mermaid:mermaid_to_file:74 - internal/process/esm_loader.js:74\n",
      "    internalBinding('errors').triggerUncaughtException(\n",
      "                              ^\n",
      "\n",
      "Error [ERR_PACKAGE_PATH_NOT_EXPORTED]: Package subpath './internal/puppeteer-core.js' is not defined by \"exports\" in /Users/paer/.npm-global/lib/node_modules/@mermaid-js/mermaid-cli/node_modules/puppeteer-core/package.json imported from /Users/paer/.npm-global/lib/node_modules/@mermaid-js/mermaid-cli/node_modules/puppeteer/lib/esm/puppeteer/puppeteer.js\n",
      "    at throwExportsNotFound (internal/modules/esm/resolve.js:289:9)\n",
      "    at packageExportsResolve (internal/modules/esm/resolve.js:534:3)\n",
      "    at packageResolve (internal/modules/esm/resolve.js:665:14)\n",
      "    at moduleResolve (internal/modules/esm/resolve.js:716:14)\n",
      "    at Loader.defaultResolve [as _resolve] (internal/modules/esm/resolve.js:809:11)\n",
      "    at Loader.resolve (internal/modules/esm/loader.js:85:40)\n",
      "    at Loader.getModuleJob (internal/modules/esm/loader.js:229:28)\n",
      "    at ModuleWrap.<anonymous> (internal/modules/esm/module_job.js:51:40)\n",
      "    at link (internal/modules/esm/module_job.js:50:36) {\n",
      "  code: 'ERR_PACKAGE_PATH_NOT_EXPORTED'\n",
      "}\n",
      "\n",
      "2024-04-07 23:32:26.340 | INFO     | metagpt.utils.file_repository:save:60 - save to: /Users/paer/Documents/work/codes/MetaGPT/workspace/snake_game/resources/prd/20240407233225.md\n",
      "2024-04-07 23:32:26.342 | DEBUG    | metagpt.utils.file_repository:save_pdf:223 - File Saved: 20240407233225.md\n",
      "2024-04-07 23:32:26.345 | DEBUG    | metagpt.roles.role:_set_state:334 - actions=[PrepareDocuments, WritePRD], state=-1\n",
      "2024-04-07 23:32:26 INFO agent.py:194 [ProJectManager]: Agent ProJectManager finishes task de1b87d3e89e44f5961f5eaa5dc39a2f\n",
      "2024-04-07 23:32:26 INFO agent.py:194 [ProJectManager]: Agent ProJectManager finishes task de1b87d3e89e44f5961f5eaa5dc39a2f\n",
      "2024-04-07 23:32:26 INFO agent.py:207 [ProJectManager]: Task reply f2c96ca55aee4865ac0af08dc391916b.\n",
      "2024-04-07 23:32:26 INFO agent.py:207 [ProJectManager]: Task reply f2c96ca55aee4865ac0af08dc391916b.\n",
      "2024-04-07 23:32:26 INFO environment.py:212 [ProJectManager]: Task reply f2c96ca55aee4865ac0af08dc391916b need next round, putting into task queue.\n",
      "2024-04-07 23:32:26 INFO environment.py:212 [ProJectManager]: Task reply f2c96ca55aee4865ac0af08dc391916b need next round, putting into task queue.\n",
      "2024-04-07 23:32:26 INFO environment.py:145 [ProJectManager]: Publishing task f2c96ca55aee4865ac0af08dc391916b to {'ProductManager': <ragent.agents.metagpt_agent.MetaGptAgent object at 0x7f79a6c494f0>, 'Architect': <ragent.agents.metagpt_agent.MetaGptAgent object at 0x7f79a6c497f0>, 'ProJectManager': <ragent.agents.metagpt_agent.MetaGptAgent object at 0x7f79a856a9d0>}\n",
      "2024-04-07 23:32:26 INFO environment.py:145 [ProJectManager]: Publishing task f2c96ca55aee4865ac0af08dc391916b to {'ProductManager': <ragent.agents.metagpt_agent.MetaGptAgent object at 0x7f79a6c494f0>, 'Architect': <ragent.agents.metagpt_agent.MetaGptAgent object at 0x7f79a6c497f0>, 'ProJectManager': <ragent.agents.metagpt_agent.MetaGptAgent object at 0x7f79a856a9d0>}\n",
      "2024-04-07 23:32:26 INFO agent.py:191 [ProJectManager]: Agent ProJectManager starts running task f2c96ca55aee4865ac0af08dc391916b\n",
      "2024-04-07 23:32:26 INFO agent.py:191 [ProJectManager]: Agent ProJectManager starts running task f2c96ca55aee4865ac0af08dc391916b\n",
      "2024-04-07 23:32:26.386 | DEBUG    | metagpt.roles.role:run:555 - Alice(Product Manager): no news. waiting.\n",
      "2024-04-07 23:32:26 INFO agent.py:194 [ProJectManager]: Agent ProJectManager finishes task f2c96ca55aee4865ac0af08dc391916b\n",
      "2024-04-07 23:32:26 INFO agent.py:194 [ProJectManager]: Agent ProJectManager finishes task f2c96ca55aee4865ac0af08dc391916b\n"
     ]
    },
    {
     "ename": "KeyboardInterrupt",
     "evalue": "",
     "output_type": "error",
     "traceback": [
      "\u001b[0;31m---------------------------------------------------------------------------\u001b[0m",
      "\u001b[0;31mKeyboardInterrupt\u001b[0m                         Traceback (most recent call last)",
      "Cell \u001b[0;32mIn[23], line 1\u001b[0m\n\u001b[0;32m----> 1\u001b[0m \u001b[43menv\u001b[49m\u001b[38;5;241;43m.\u001b[39;49m\u001b[43mask\u001b[49m\u001b[43m(\u001b[49m\u001b[38;5;124;43m\"\u001b[39;49m\u001b[38;5;124;43mDesign a snake game, give me PRD, Architect design and documents\u001b[39;49m\u001b[38;5;124;43m\"\u001b[39;49m\u001b[43m)\u001b[49m\n",
      "File \u001b[0;32m~/Documents/work/codes/X/ray_common_libs/Ragent/ragent/core/environment.py:314\u001b[0m, in \u001b[0;36mEnvironment.ask\u001b[0;34m(self, msg, receiver, timeout_s, poll_interval_s, err_when_timeout)\u001b[0m\n\u001b[1;32m    310\u001b[0m receiver \u001b[38;5;241m=\u001b[39m receiver \u001b[38;5;129;01mor\u001b[39;00m \u001b[38;5;124m\"\u001b[39m\u001b[38;5;124m<all>\u001b[39m\u001b[38;5;124m\"\u001b[39m\n\u001b[1;32m    311\u001b[0m task_id \u001b[38;5;241m=\u001b[39m \u001b[38;5;28mself\u001b[39m\u001b[38;5;241m.\u001b[39mreceive_task(msg, sender\u001b[38;5;241m=\u001b[39m\u001b[38;5;124m'\u001b[39m\u001b[38;5;124mUser\u001b[39m\u001b[38;5;124m'\u001b[39m, receiver\u001b[38;5;241m=\u001b[39mreceiver,\n\u001b[1;32m    312\u001b[0m                             need_reply\u001b[38;5;241m=\u001b[39m\u001b[38;5;28;01mTrue\u001b[39;00m)\n\u001b[0;32m--> 314\u001b[0m trace, is_task_completed \u001b[38;5;241m=\u001b[39m \u001b[38;5;28;43mself\u001b[39;49m\u001b[38;5;241;43m.\u001b[39;49m\u001b[43mquery_task\u001b[49m\u001b[43m(\u001b[49m\u001b[43mtask_id\u001b[49m\u001b[43m,\u001b[49m\n\u001b[1;32m    315\u001b[0m \u001b[43m                                           \u001b[49m\u001b[43mtimeout_s\u001b[49m\u001b[38;5;241;43m=\u001b[39;49m\u001b[43mtimeout_s\u001b[49m\u001b[43m,\u001b[49m\n\u001b[1;32m    316\u001b[0m \u001b[43m                                           \u001b[49m\u001b[43mpoll_interval_s\u001b[49m\u001b[38;5;241;43m=\u001b[39;49m\u001b[43mpoll_interval_s\u001b[49m\u001b[43m)\u001b[49m\n\u001b[1;32m    317\u001b[0m \u001b[38;5;28;01mif\u001b[39;00m \u001b[38;5;129;01mnot\u001b[39;00m is_task_completed \u001b[38;5;129;01mand\u001b[39;00m timeout_s \u001b[38;5;241m>\u001b[39m \u001b[38;5;241m0\u001b[39m:\n\u001b[1;32m    318\u001b[0m     task_uncomplete_msg \u001b[38;5;241m=\u001b[39m \u001b[38;5;124mf\u001b[39m\u001b[38;5;124m\"\u001b[39m\u001b[38;5;124mTask \u001b[39m\u001b[38;5;132;01m{\u001b[39;00mtask_id\u001b[38;5;132;01m}\u001b[39;00m\u001b[38;5;124m didn\u001b[39m\u001b[38;5;124m'\u001b[39m\u001b[38;5;124mt complete after \u001b[39m\u001b[38;5;124m\"\u001b[39m \\\n\u001b[1;32m    319\u001b[0m                           \u001b[38;5;124mf\u001b[39m\u001b[38;5;124m\"\u001b[39m\u001b[38;5;132;01m{\u001b[39;00mtimeout_s\u001b[38;5;132;01m}\u001b[39;00m\u001b[38;5;124m seconds.\u001b[39m\u001b[38;5;124m\"\u001b[39m\n",
      "File \u001b[0;32m~/Documents/work/codes/X/ray_common_libs/Ragent/ragent/core/environment.py:286\u001b[0m, in \u001b[0;36mEnvironment.get_query_result\u001b[0;34m(self, task_id, timeout_s, poll_interval_s)\u001b[0m\n\u001b[1;32m    283\u001b[0m logger\u001b[38;5;241m.\u001b[39mdebug(\u001b[38;5;124mf\u001b[39m\u001b[38;5;124m\"\u001b[39m\u001b[38;5;124mTask \u001b[39m\u001b[38;5;132;01m{\u001b[39;00mtask_id\u001b[38;5;132;01m}\u001b[39;00m\u001b[38;5;124m has \u001b[39m\u001b[38;5;132;01m{\u001b[39;00m\u001b[38;5;28mlen\u001b[39m(trace)\u001b[38;5;132;01m}\u001b[39;00m\u001b[38;5;124m traces: \u001b[39m\u001b[38;5;130;01m\\n\u001b[39;00m\u001b[38;5;132;01m{\u001b[39;00mpprint\u001b[38;5;241m.\u001b[39mpformat(trace)\u001b[38;5;132;01m}\u001b[39;00m\u001b[38;5;124m\"\u001b[39m)\n\u001b[1;32m    284\u001b[0m logger\u001b[38;5;241m.\u001b[39mdebug(\u001b[38;5;124mf\u001b[39m\u001b[38;5;124m\"\u001b[39m\u001b[38;5;124mTask \u001b[39m\u001b[38;5;132;01m{\u001b[39;00mtask_id\u001b[38;5;132;01m}\u001b[39;00m\u001b[38;5;124m didn\u001b[39m\u001b[38;5;124m'\u001b[39m\u001b[38;5;124mt complete yet, \u001b[39m\u001b[38;5;124m\"\u001b[39m\n\u001b[1;32m    285\u001b[0m              \u001b[38;5;124mf\u001b[39m\u001b[38;5;124m\"\u001b[39m\u001b[38;5;124mwill poll after \u001b[39m\u001b[38;5;132;01m{\u001b[39;00mpoll_interval_s\u001b[38;5;132;01m}\u001b[39;00m\u001b[38;5;124ms...\u001b[39m\u001b[38;5;124m\"\u001b[39m)\n\u001b[0;32m--> 286\u001b[0m \u001b[43mtime\u001b[49m\u001b[38;5;241;43m.\u001b[39;49m\u001b[43msleep\u001b[49m\u001b[43m(\u001b[49m\u001b[43mpoll_interval_s\u001b[49m\u001b[43m)\u001b[49m\n\u001b[1;32m    287\u001b[0m \u001b[38;5;28;01mif\u001b[39;00m timeout_s \u001b[38;5;241m<\u001b[39m \u001b[38;5;241m0\u001b[39m:\n\u001b[1;32m    288\u001b[0m     \u001b[38;5;28;01mcontinue\u001b[39;00m\n",
      "\u001b[0;31mKeyboardInterrupt\u001b[0m: "
     ]
    }
   ],
   "source": [
    "env.ask(\"Design a snake game, give me PRD, Architect design and documents\")"
   ]
  },
  {
   "cell_type": "code",
   "execution_count": 1,
   "metadata": {},
   "outputs": [],
   "source": [
    "from pydantic import BaseModel"
   ]
  },
  {
   "cell_type": "code",
   "execution_count": 26,
   "metadata": {},
   "outputs": [
    {
     "data": {
      "text/plain": [
       "Context(kwargs=AttrDict(), config=Config(extra_fields=None, project_path='', project_name='', inc=False, reqa_file='', max_auto_summarize_code=0, git_reinit=False, llm=LLMConfig(extra_fields=None, api_key='sk-PKGJvUonJPbN97qA3WEVyHGowN5YbIWVLiYIN0dG8lkwhNpO', api_type=<LLMType.OPENAI: 'openai'>, base_url='https://api.moonshot.cn/v1', api_version=None, model='moonshot-v1-8k', app_id=None, api_secret=None, domain=None, max_token=4096, temperature=0.0, top_p=1.0, top_k=0, repetition_penalty=1.0, stop=None, presence_penalty=0.0, frequency_penalty=0.0, best_of=None, n=None, stream=False, logprobs=None, top_logprobs=None, timeout=60, proxy=None, calc_usage=True), proxy='', search=SearchConfig(extra_fields=None, api_type=<SearchEngineType.DUCK_DUCK_GO: 'ddg'>, api_key='', cse_id='', search_func=None), browser=BrowserConfig(extra_fields=None, engine=<WebBrowserEngineType.PLAYWRIGHT: 'playwright'>, browser_type='chromium'), mermaid=MermaidConfig(extra_fields=None, engine='nodejs', path='mmdc', puppeteer_config='', pyppeteer_path='/usr/bin/google-chrome-stable'), s3=None, redis=None, repair_llm_output=False, prompt_schema='json', workspace=WorkspaceConfig(extra_fields=None, path=PosixPath('/Users/paer/Documents/work/codes/MetaGPT/workspace'), use_uid=False, uid=''), enable_longterm_memory=False, code_review_k_times=2, metagpt_tti_url='', language='English', redis_key='placeholder', iflytek_app_id='', iflytek_api_secret='', iflytek_api_key='', azure_tts_subscription_key='', azure_tts_region=''), repo=None, git_repo=None, src_workspace=None, cost_manager=CostManager(total_prompt_tokens=0, total_completion_tokens=0, total_budget=0, max_budget=10.0, total_cost=0))"
      ]
     },
     "execution_count": 26,
     "metadata": {},
     "output_type": "execute_result"
    }
   ],
   "source": [
    "import importlib\n",
    "\n",
    "importlib.import_module(\"metagpt.context\").Context()"
   ]
  },
  {
   "cell_type": "code",
   "execution_count": 8,
   "metadata": {},
   "outputs": [],
   "source": [
    "class My:\n",
    "    def func(self, param: BaseModel):\n",
    "        self._param = param"
   ]
  },
  {
   "cell_type": "code",
   "execution_count": 9,
   "metadata": {},
   "outputs": [
    {
     "name": "stderr",
     "output_type": "stream",
     "text": [
      "2024-04-08 11:03:18,574\tINFO worker.py:1752 -- Started a local Ray instance.\n",
      "[2024-04-08 11:03:18,578 I 87483 1564898] logging.cc:230: Set ray log level from environment variable RAY_BACKEND_LOG_LEVEL to -1\n",
      "\u001b[33m(raylet)\u001b[0m [2024-04-08 11:03:19,784 I 88251 1569324] logging.cc:230: Set ray log level from environment variable RAY_BACKEND_LOG_LEVEL to -1\n"
     ]
    },
    {
     "name": "stderr",
     "output_type": "stream",
     "text": [
      "\u001b[33m(raylet)\u001b[0m [2024-04-08 11:03:20,381 I 88256 1569807] logging.cc:230: Set ray log level from environment variable RAY_BACKEND_LOG_LEVEL to -1\n"
     ]
    }
   ],
   "source": [
    "my = ray.remote(My).remote()"
   ]
  },
  {
   "cell_type": "code",
   "execution_count": 10,
   "metadata": {},
   "outputs": [],
   "source": [
    "class B(BaseModel):\n",
    "    a: int"
   ]
  },
  {
   "cell_type": "code",
   "execution_count": 17,
   "metadata": {},
   "outputs": [
    {
     "ename": "TypeError",
     "evalue": "Could not serialize the argument B(a=1) for a task or actor __main__.My.func:\n===============================\nChecking Serializability of a=1\n===============================\n\u001b[31m!!! FAIL\u001b[39m serialization: no default __reduce__ due to non-trivial __cinit__\n    Serializing '_abc_impl' <_abc._abc_data object at 0x7fb057b40180>...\n    \u001b[31m!!! FAIL\u001b[39m serialization: cannot pickle '_abc._abc_data' object\n    WARNING: Did not find non-serializable object in <_abc._abc_data object at 0x7fb057b40180>. This may be an oversight.\n===============================\nVariable: \n\n\t\u001b[1mFailTuple(_abc_impl [obj=<_abc._abc_data object at 0x7fb057b40180>, parent=a=1])\u001b[0m\n\nwas found to be non-serializable. There may be multiple other undetected variables that were non-serializable. \nConsider either removing the instantiation/imports of these variables or moving the instantiation into the scope of the function/class. \n===============================\nCheck https://docs.ray.io/en/master/ray-core/objects/serialization.html#troubleshooting for more information.\nIf you have any suggestions on how to improve this error message, please reach out to the Ray developers on github.com/ray-project/ray/issues/\n===============================\n",
     "output_type": "error",
     "traceback": [
      "\u001b[0;31m---------------------------------------------------------------------------\u001b[0m",
      "\u001b[0;31mTypeError\u001b[0m                                 Traceback (most recent call last)",
      "File \u001b[0;32mpython/ray/_raylet.pyx:902\u001b[0m, in \u001b[0;36mray._raylet.prepare_args_internal\u001b[0;34m()\u001b[0m\n",
      "File \u001b[0;32m~/opt/anaconda3/envs/ragent/lib/python3.9/site-packages/ray/_private/serialization.py:494\u001b[0m, in \u001b[0;36mSerializationContext.serialize\u001b[0;34m(self, value)\u001b[0m\n\u001b[1;32m    493\u001b[0m \u001b[38;5;28;01melse\u001b[39;00m:\n\u001b[0;32m--> 494\u001b[0m     \u001b[38;5;28;01mreturn\u001b[39;00m \u001b[38;5;28;43mself\u001b[39;49m\u001b[38;5;241;43m.\u001b[39;49m\u001b[43m_serialize_to_msgpack\u001b[49m\u001b[43m(\u001b[49m\u001b[43mvalue\u001b[49m\u001b[43m)\u001b[49m\n",
      "File \u001b[0;32m~/opt/anaconda3/envs/ragent/lib/python3.9/site-packages/ray/_private/serialization.py:472\u001b[0m, in \u001b[0;36mSerializationContext._serialize_to_msgpack\u001b[0;34m(self, value)\u001b[0m\n\u001b[1;32m    471\u001b[0m     metadata \u001b[38;5;241m=\u001b[39m ray_constants\u001b[38;5;241m.\u001b[39mOBJECT_METADATA_TYPE_PYTHON\n\u001b[0;32m--> 472\u001b[0m     pickle5_serialized_object \u001b[38;5;241m=\u001b[39m \u001b[38;5;28;43mself\u001b[39;49m\u001b[38;5;241;43m.\u001b[39;49m\u001b[43m_serialize_to_pickle5\u001b[49m\u001b[43m(\u001b[49m\n\u001b[1;32m    473\u001b[0m \u001b[43m        \u001b[49m\u001b[43mmetadata\u001b[49m\u001b[43m,\u001b[49m\u001b[43m \u001b[49m\u001b[43mpython_objects\u001b[49m\n\u001b[1;32m    474\u001b[0m \u001b[43m    \u001b[49m\u001b[43m)\u001b[49m\n\u001b[1;32m    475\u001b[0m \u001b[38;5;28;01melse\u001b[39;00m:\n",
      "File \u001b[0;32m~/opt/anaconda3/envs/ragent/lib/python3.9/site-packages/ray/_private/serialization.py:425\u001b[0m, in \u001b[0;36mSerializationContext._serialize_to_pickle5\u001b[0;34m(self, metadata, value)\u001b[0m\n\u001b[1;32m    424\u001b[0m     \u001b[38;5;28mself\u001b[39m\u001b[38;5;241m.\u001b[39mget_and_clear_contained_object_refs()\n\u001b[0;32m--> 425\u001b[0m     \u001b[38;5;28;01mraise\u001b[39;00m e\n\u001b[1;32m    426\u001b[0m \u001b[38;5;28;01mfinally\u001b[39;00m:\n",
      "File \u001b[0;32m~/opt/anaconda3/envs/ragent/lib/python3.9/site-packages/ray/_private/serialization.py:420\u001b[0m, in \u001b[0;36mSerializationContext._serialize_to_pickle5\u001b[0;34m(self, metadata, value)\u001b[0m\n\u001b[1;32m    419\u001b[0m     \u001b[38;5;28mself\u001b[39m\u001b[38;5;241m.\u001b[39mset_in_band_serialization()\n\u001b[0;32m--> 420\u001b[0m     inband \u001b[38;5;241m=\u001b[39m \u001b[43mpickle\u001b[49m\u001b[38;5;241;43m.\u001b[39;49m\u001b[43mdumps\u001b[49m\u001b[43m(\u001b[49m\n\u001b[1;32m    421\u001b[0m \u001b[43m        \u001b[49m\u001b[43mvalue\u001b[49m\u001b[43m,\u001b[49m\u001b[43m \u001b[49m\u001b[43mprotocol\u001b[49m\u001b[38;5;241;43m=\u001b[39;49m\u001b[38;5;241;43m5\u001b[39;49m\u001b[43m,\u001b[49m\u001b[43m \u001b[49m\u001b[43mbuffer_callback\u001b[49m\u001b[38;5;241;43m=\u001b[39;49m\u001b[43mwriter\u001b[49m\u001b[38;5;241;43m.\u001b[39;49m\u001b[43mbuffer_callback\u001b[49m\n\u001b[1;32m    422\u001b[0m \u001b[43m    \u001b[49m\u001b[43m)\u001b[49m\n\u001b[1;32m    423\u001b[0m \u001b[38;5;28;01mexcept\u001b[39;00m \u001b[38;5;167;01mException\u001b[39;00m \u001b[38;5;28;01mas\u001b[39;00m e:\n",
      "File \u001b[0;32m~/opt/anaconda3/envs/ragent/lib/python3.9/site-packages/ray/cloudpickle/cloudpickle.py:1479\u001b[0m, in \u001b[0;36mdumps\u001b[0;34m(obj, protocol, buffer_callback)\u001b[0m\n\u001b[1;32m   1478\u001b[0m cp \u001b[38;5;241m=\u001b[39m Pickler(file, protocol\u001b[38;5;241m=\u001b[39mprotocol, buffer_callback\u001b[38;5;241m=\u001b[39mbuffer_callback)\n\u001b[0;32m-> 1479\u001b[0m \u001b[43mcp\u001b[49m\u001b[38;5;241;43m.\u001b[39;49m\u001b[43mdump\u001b[49m\u001b[43m(\u001b[49m\u001b[43mobj\u001b[49m\u001b[43m)\u001b[49m\n\u001b[1;32m   1480\u001b[0m \u001b[38;5;28;01mreturn\u001b[39;00m file\u001b[38;5;241m.\u001b[39mgetvalue()\n",
      "File \u001b[0;32m~/opt/anaconda3/envs/ragent/lib/python3.9/site-packages/ray/cloudpickle/cloudpickle.py:1245\u001b[0m, in \u001b[0;36mPickler.dump\u001b[0;34m(self, obj)\u001b[0m\n\u001b[1;32m   1244\u001b[0m \u001b[38;5;28;01mtry\u001b[39;00m:\n\u001b[0;32m-> 1245\u001b[0m     \u001b[38;5;28;01mreturn\u001b[39;00m \u001b[38;5;28;43msuper\u001b[39;49m\u001b[43m(\u001b[49m\u001b[43m)\u001b[49m\u001b[38;5;241;43m.\u001b[39;49m\u001b[43mdump\u001b[49m\u001b[43m(\u001b[49m\u001b[43mobj\u001b[49m\u001b[43m)\u001b[49m\n\u001b[1;32m   1246\u001b[0m \u001b[38;5;28;01mexcept\u001b[39;00m \u001b[38;5;167;01mRuntimeError\u001b[39;00m \u001b[38;5;28;01mas\u001b[39;00m e:\n",
      "File \u001b[0;32m<stringsource>:2\u001b[0m, in \u001b[0;36mzmq.backend.cython.socket.Socket.__reduce_cython__\u001b[0;34m()\u001b[0m\n",
      "\u001b[0;31mTypeError\u001b[0m: no default __reduce__ due to non-trivial __cinit__",
      "\nThe above exception was the direct cause of the following exception:\n",
      "\u001b[0;31mTypeError\u001b[0m                                 Traceback (most recent call last)",
      "Cell \u001b[0;32mIn[17], line 1\u001b[0m\n\u001b[0;32m----> 1\u001b[0m \u001b[43mmy\u001b[49m\u001b[38;5;241;43m.\u001b[39;49m\u001b[43mfunc\u001b[49m\u001b[38;5;241;43m.\u001b[39;49m\u001b[43mremote\u001b[49m\u001b[43m(\u001b[49m\u001b[43mB\u001b[49m\u001b[43m(\u001b[49m\u001b[43ma\u001b[49m\u001b[38;5;241;43m=\u001b[39;49m\u001b[38;5;241;43m1\u001b[39;49m\u001b[43m)\u001b[49m\u001b[43m)\u001b[49m\n",
      "File \u001b[0;32m~/opt/anaconda3/envs/ragent/lib/python3.9/site-packages/ray/actor.py:202\u001b[0m, in \u001b[0;36mActorMethod.remote\u001b[0;34m(self, *args, **kwargs)\u001b[0m\n\u001b[1;32m    201\u001b[0m \u001b[38;5;28;01mdef\u001b[39;00m \u001b[38;5;21mremote\u001b[39m(\u001b[38;5;28mself\u001b[39m, \u001b[38;5;241m*\u001b[39margs, \u001b[38;5;241m*\u001b[39m\u001b[38;5;241m*\u001b[39mkwargs):\n\u001b[0;32m--> 202\u001b[0m     \u001b[38;5;28;01mreturn\u001b[39;00m \u001b[38;5;28;43mself\u001b[39;49m\u001b[38;5;241;43m.\u001b[39;49m\u001b[43m_remote\u001b[49m\u001b[43m(\u001b[49m\u001b[43margs\u001b[49m\u001b[43m,\u001b[49m\u001b[43m \u001b[49m\u001b[43mkwargs\u001b[49m\u001b[43m)\u001b[49m\n",
      "File \u001b[0;32m~/opt/anaconda3/envs/ragent/lib/python3.9/site-packages/ray/_private/auto_init_hook.py:21\u001b[0m, in \u001b[0;36mwrap_auto_init.<locals>.auto_init_wrapper\u001b[0;34m(*args, **kwargs)\u001b[0m\n\u001b[1;32m     18\u001b[0m \u001b[38;5;129m@wraps\u001b[39m(fn)\n\u001b[1;32m     19\u001b[0m \u001b[38;5;28;01mdef\u001b[39;00m \u001b[38;5;21mauto_init_wrapper\u001b[39m(\u001b[38;5;241m*\u001b[39margs, \u001b[38;5;241m*\u001b[39m\u001b[38;5;241m*\u001b[39mkwargs):\n\u001b[1;32m     20\u001b[0m     auto_init_ray()\n\u001b[0;32m---> 21\u001b[0m     \u001b[38;5;28;01mreturn\u001b[39;00m \u001b[43mfn\u001b[49m\u001b[43m(\u001b[49m\u001b[38;5;241;43m*\u001b[39;49m\u001b[43margs\u001b[49m\u001b[43m,\u001b[49m\u001b[43m \u001b[49m\u001b[38;5;241;43m*\u001b[39;49m\u001b[38;5;241;43m*\u001b[39;49m\u001b[43mkwargs\u001b[49m\u001b[43m)\u001b[49m\n",
      "File \u001b[0;32m~/opt/anaconda3/envs/ragent/lib/python3.9/site-packages/ray/util/tracing/tracing_helper.py:426\u001b[0m, in \u001b[0;36m_tracing_actor_method_invocation.<locals>._start_span\u001b[0;34m(self, args, kwargs, *_args, **_kwargs)\u001b[0m\n\u001b[1;32m    424\u001b[0m     \u001b[38;5;28;01mif\u001b[39;00m kwargs \u001b[38;5;129;01mis\u001b[39;00m \u001b[38;5;129;01mnot\u001b[39;00m \u001b[38;5;28;01mNone\u001b[39;00m:\n\u001b[1;32m    425\u001b[0m         \u001b[38;5;28;01massert\u001b[39;00m \u001b[38;5;124m\"\u001b[39m\u001b[38;5;124m_ray_trace_ctx\u001b[39m\u001b[38;5;124m\"\u001b[39m \u001b[38;5;129;01mnot\u001b[39;00m \u001b[38;5;129;01min\u001b[39;00m kwargs\n\u001b[0;32m--> 426\u001b[0m     \u001b[38;5;28;01mreturn\u001b[39;00m \u001b[43mmethod\u001b[49m\u001b[43m(\u001b[49m\u001b[38;5;28;43mself\u001b[39;49m\u001b[43m,\u001b[49m\u001b[43m \u001b[49m\u001b[43margs\u001b[49m\u001b[43m,\u001b[49m\u001b[43m \u001b[49m\u001b[43mkwargs\u001b[49m\u001b[43m,\u001b[49m\u001b[43m \u001b[49m\u001b[38;5;241;43m*\u001b[39;49m\u001b[43m_args\u001b[49m\u001b[43m,\u001b[49m\u001b[43m \u001b[49m\u001b[38;5;241;43m*\u001b[39;49m\u001b[38;5;241;43m*\u001b[39;49m\u001b[43m_kwargs\u001b[49m\u001b[43m)\u001b[49m\n\u001b[1;32m    428\u001b[0m class_name \u001b[38;5;241m=\u001b[39m (\n\u001b[1;32m    429\u001b[0m     \u001b[38;5;28mself\u001b[39m\u001b[38;5;241m.\u001b[39m_actor_ref()\u001b[38;5;241m.\u001b[39m_ray_actor_creation_function_descriptor\u001b[38;5;241m.\u001b[39mclass_name\n\u001b[1;32m    430\u001b[0m )\n\u001b[1;32m    431\u001b[0m method_name \u001b[38;5;241m=\u001b[39m \u001b[38;5;28mself\u001b[39m\u001b[38;5;241m.\u001b[39m_method_name\n",
      "File \u001b[0;32m~/opt/anaconda3/envs/ragent/lib/python3.9/site-packages/ray/actor.py:327\u001b[0m, in \u001b[0;36mActorMethod._remote\u001b[0;34m(self, args, kwargs, name, num_returns, max_task_retries, retry_exceptions, concurrency_group, _generator_backpressure_num_objects, enable_task_events)\u001b[0m\n\u001b[1;32m    324\u001b[0m \u001b[38;5;28;01mif\u001b[39;00m \u001b[38;5;28mself\u001b[39m\u001b[38;5;241m.\u001b[39m_decorator \u001b[38;5;129;01mis\u001b[39;00m \u001b[38;5;129;01mnot\u001b[39;00m \u001b[38;5;28;01mNone\u001b[39;00m:\n\u001b[1;32m    325\u001b[0m     invocation \u001b[38;5;241m=\u001b[39m \u001b[38;5;28mself\u001b[39m\u001b[38;5;241m.\u001b[39m_decorator(invocation)\n\u001b[0;32m--> 327\u001b[0m \u001b[38;5;28;01mreturn\u001b[39;00m \u001b[43minvocation\u001b[49m\u001b[43m(\u001b[49m\u001b[43margs\u001b[49m\u001b[43m,\u001b[49m\u001b[43m \u001b[49m\u001b[43mkwargs\u001b[49m\u001b[43m)\u001b[49m\n",
      "File \u001b[0;32m~/opt/anaconda3/envs/ragent/lib/python3.9/site-packages/ray/actor.py:308\u001b[0m, in \u001b[0;36mActorMethod._remote.<locals>.invocation\u001b[0;34m(args, kwargs)\u001b[0m\n\u001b[1;32m    305\u001b[0m \u001b[38;5;28;01mif\u001b[39;00m actor \u001b[38;5;129;01mis\u001b[39;00m \u001b[38;5;28;01mNone\u001b[39;00m:\n\u001b[1;32m    306\u001b[0m     \u001b[38;5;28;01mraise\u001b[39;00m \u001b[38;5;167;01mRuntimeError\u001b[39;00m(\u001b[38;5;124m\"\u001b[39m\u001b[38;5;124mLost reference to actor\u001b[39m\u001b[38;5;124m\"\u001b[39m)\n\u001b[0;32m--> 308\u001b[0m \u001b[38;5;28;01mreturn\u001b[39;00m \u001b[43mactor\u001b[49m\u001b[38;5;241;43m.\u001b[39;49m\u001b[43m_actor_method_call\u001b[49m\u001b[43m(\u001b[49m\n\u001b[1;32m    309\u001b[0m \u001b[43m    \u001b[49m\u001b[38;5;28;43mself\u001b[39;49m\u001b[38;5;241;43m.\u001b[39;49m\u001b[43m_method_name\u001b[49m\u001b[43m,\u001b[49m\n\u001b[1;32m    310\u001b[0m \u001b[43m    \u001b[49m\u001b[43margs\u001b[49m\u001b[38;5;241;43m=\u001b[39;49m\u001b[43margs\u001b[49m\u001b[43m,\u001b[49m\n\u001b[1;32m    311\u001b[0m \u001b[43m    \u001b[49m\u001b[43mkwargs\u001b[49m\u001b[38;5;241;43m=\u001b[39;49m\u001b[43mkwargs\u001b[49m\u001b[43m,\u001b[49m\n\u001b[1;32m    312\u001b[0m \u001b[43m    \u001b[49m\u001b[43mname\u001b[49m\u001b[38;5;241;43m=\u001b[39;49m\u001b[43mname\u001b[49m\u001b[43m,\u001b[49m\n\u001b[1;32m    313\u001b[0m \u001b[43m    \u001b[49m\u001b[43mnum_returns\u001b[49m\u001b[38;5;241;43m=\u001b[39;49m\u001b[43mnum_returns\u001b[49m\u001b[43m,\u001b[49m\n\u001b[1;32m    314\u001b[0m \u001b[43m    \u001b[49m\u001b[43mmax_task_retries\u001b[49m\u001b[38;5;241;43m=\u001b[39;49m\u001b[43mmax_task_retries\u001b[49m\u001b[43m,\u001b[49m\n\u001b[1;32m    315\u001b[0m \u001b[43m    \u001b[49m\u001b[43mretry_exceptions\u001b[49m\u001b[38;5;241;43m=\u001b[39;49m\u001b[43mretry_exceptions\u001b[49m\u001b[43m,\u001b[49m\n\u001b[1;32m    316\u001b[0m \u001b[43m    \u001b[49m\u001b[43mconcurrency_group_name\u001b[49m\u001b[38;5;241;43m=\u001b[39;49m\u001b[43mconcurrency_group\u001b[49m\u001b[43m,\u001b[49m\n\u001b[1;32m    317\u001b[0m \u001b[43m    \u001b[49m\u001b[43mgenerator_backpressure_num_objects\u001b[49m\u001b[38;5;241;43m=\u001b[39;49m\u001b[43m(\u001b[49m\n\u001b[1;32m    318\u001b[0m \u001b[43m        \u001b[49m\u001b[43m_generator_backpressure_num_objects\u001b[49m\n\u001b[1;32m    319\u001b[0m \u001b[43m    \u001b[49m\u001b[43m)\u001b[49m\u001b[43m,\u001b[49m\n\u001b[1;32m    320\u001b[0m \u001b[43m    \u001b[49m\u001b[43menable_task_events\u001b[49m\u001b[38;5;241;43m=\u001b[39;49m\u001b[43menable_task_events\u001b[49m\u001b[43m,\u001b[49m\n\u001b[1;32m    321\u001b[0m \u001b[43m\u001b[49m\u001b[43m)\u001b[49m\n",
      "File \u001b[0;32m~/opt/anaconda3/envs/ragent/lib/python3.9/site-packages/ray/actor.py:1440\u001b[0m, in \u001b[0;36mActorHandle._actor_method_call\u001b[0;34m(self, method_name, args, kwargs, name, num_returns, max_task_retries, retry_exceptions, concurrency_group_name, generator_backpressure_num_objects, enable_task_events)\u001b[0m\n\u001b[1;32m   1437\u001b[0m \u001b[38;5;28;01mif\u001b[39;00m generator_backpressure_num_objects \u001b[38;5;129;01mis\u001b[39;00m \u001b[38;5;28;01mNone\u001b[39;00m:\n\u001b[1;32m   1438\u001b[0m     generator_backpressure_num_objects \u001b[38;5;241m=\u001b[39m \u001b[38;5;241m-\u001b[39m\u001b[38;5;241m1\u001b[39m\n\u001b[0;32m-> 1440\u001b[0m object_refs \u001b[38;5;241m=\u001b[39m \u001b[43mworker\u001b[49m\u001b[38;5;241;43m.\u001b[39;49m\u001b[43mcore_worker\u001b[49m\u001b[38;5;241;43m.\u001b[39;49m\u001b[43msubmit_actor_task\u001b[49m\u001b[43m(\u001b[49m\n\u001b[1;32m   1441\u001b[0m \u001b[43m    \u001b[49m\u001b[38;5;28;43mself\u001b[39;49m\u001b[38;5;241;43m.\u001b[39;49m\u001b[43m_ray_actor_language\u001b[49m\u001b[43m,\u001b[49m\n\u001b[1;32m   1442\u001b[0m \u001b[43m    \u001b[49m\u001b[38;5;28;43mself\u001b[39;49m\u001b[38;5;241;43m.\u001b[39;49m\u001b[43m_ray_actor_id\u001b[49m\u001b[43m,\u001b[49m\n\u001b[1;32m   1443\u001b[0m \u001b[43m    \u001b[49m\u001b[43mfunction_descriptor\u001b[49m\u001b[43m,\u001b[49m\n\u001b[1;32m   1444\u001b[0m \u001b[43m    \u001b[49m\u001b[43mlist_args\u001b[49m\u001b[43m,\u001b[49m\n\u001b[1;32m   1445\u001b[0m \u001b[43m    \u001b[49m\u001b[43mname\u001b[49m\u001b[43m,\u001b[49m\n\u001b[1;32m   1446\u001b[0m \u001b[43m    \u001b[49m\u001b[43mnum_returns\u001b[49m\u001b[43m,\u001b[49m\n\u001b[1;32m   1447\u001b[0m \u001b[43m    \u001b[49m\u001b[43mmax_task_retries\u001b[49m\u001b[43m,\u001b[49m\n\u001b[1;32m   1448\u001b[0m \u001b[43m    \u001b[49m\u001b[43mretry_exceptions\u001b[49m\u001b[43m,\u001b[49m\n\u001b[1;32m   1449\u001b[0m \u001b[43m    \u001b[49m\u001b[43mretry_exception_allowlist\u001b[49m\u001b[43m,\u001b[49m\n\u001b[1;32m   1450\u001b[0m \u001b[43m    \u001b[49m\u001b[38;5;28;43mself\u001b[39;49m\u001b[38;5;241;43m.\u001b[39;49m\u001b[43m_ray_actor_method_cpus\u001b[49m\u001b[43m,\u001b[49m\n\u001b[1;32m   1451\u001b[0m \u001b[43m    \u001b[49m\u001b[43mconcurrency_group_name\u001b[49m\u001b[43m \u001b[49m\u001b[38;5;28;43;01mif\u001b[39;49;00m\u001b[43m \u001b[49m\u001b[43mconcurrency_group_name\u001b[49m\u001b[43m \u001b[49m\u001b[38;5;129;43;01mis\u001b[39;49;00m\u001b[43m \u001b[49m\u001b[38;5;129;43;01mnot\u001b[39;49;00m\u001b[43m \u001b[49m\u001b[38;5;28;43;01mNone\u001b[39;49;00m\u001b[43m \u001b[49m\u001b[38;5;28;43;01melse\u001b[39;49;00m\u001b[43m \u001b[49m\u001b[38;5;124;43mb\u001b[39;49m\u001b[38;5;124;43m\"\u001b[39;49m\u001b[38;5;124;43m\"\u001b[39;49m\u001b[43m,\u001b[49m\n\u001b[1;32m   1452\u001b[0m \u001b[43m    \u001b[49m\u001b[43mgenerator_backpressure_num_objects\u001b[49m\u001b[43m,\u001b[49m\n\u001b[1;32m   1453\u001b[0m \u001b[43m    \u001b[49m\u001b[43menable_task_events\u001b[49m\u001b[43m,\u001b[49m\n\u001b[1;32m   1454\u001b[0m \u001b[43m\u001b[49m\u001b[43m)\u001b[49m\n\u001b[1;32m   1456\u001b[0m \u001b[38;5;28;01mif\u001b[39;00m num_returns \u001b[38;5;241m==\u001b[39m STREAMING_GENERATOR_RETURN:\n\u001b[1;32m   1457\u001b[0m     \u001b[38;5;66;03m# Streaming generator will return a single ref\u001b[39;00m\n\u001b[1;32m   1458\u001b[0m     \u001b[38;5;66;03m# that is for the generator task.\u001b[39;00m\n\u001b[1;32m   1459\u001b[0m     \u001b[38;5;28;01massert\u001b[39;00m \u001b[38;5;28mlen\u001b[39m(object_refs) \u001b[38;5;241m==\u001b[39m \u001b[38;5;241m1\u001b[39m\n",
      "File \u001b[0;32mpython/ray/_raylet.pyx:4180\u001b[0m, in \u001b[0;36mray._raylet.CoreWorker.submit_actor_task\u001b[0;34m()\u001b[0m\n",
      "File \u001b[0;32mpython/ray/_raylet.pyx:4185\u001b[0m, in \u001b[0;36mray._raylet.CoreWorker.submit_actor_task\u001b[0;34m()\u001b[0m\n",
      "File \u001b[0;32mpython/ray/_raylet.pyx:864\u001b[0m, in \u001b[0;36mray._raylet.prepare_args_and_increment_put_refs\u001b[0;34m()\u001b[0m\n",
      "File \u001b[0;32mpython/ray/_raylet.pyx:855\u001b[0m, in \u001b[0;36mray._raylet.prepare_args_and_increment_put_refs\u001b[0;34m()\u001b[0m\n",
      "File \u001b[0;32mpython/ray/_raylet.pyx:911\u001b[0m, in \u001b[0;36mray._raylet.prepare_args_internal\u001b[0;34m()\u001b[0m\n",
      "\u001b[0;31mTypeError\u001b[0m: Could not serialize the argument B(a=1) for a task or actor __main__.My.func:\n===============================\nChecking Serializability of a=1\n===============================\n\u001b[31m!!! FAIL\u001b[39m serialization: no default __reduce__ due to non-trivial __cinit__\n    Serializing '_abc_impl' <_abc._abc_data object at 0x7fb057b40180>...\n    \u001b[31m!!! FAIL\u001b[39m serialization: cannot pickle '_abc._abc_data' object\n    WARNING: Did not find non-serializable object in <_abc._abc_data object at 0x7fb057b40180>. This may be an oversight.\n===============================\nVariable: \n\n\t\u001b[1mFailTuple(_abc_impl [obj=<_abc._abc_data object at 0x7fb057b40180>, parent=a=1])\u001b[0m\n\nwas found to be non-serializable. There may be multiple other undetected variables that were non-serializable. \nConsider either removing the instantiation/imports of these variables or moving the instantiation into the scope of the function/class. \n===============================\nCheck https://docs.ray.io/en/master/ray-core/objects/serialization.html#troubleshooting for more information.\nIf you have any suggestions on how to improve this error message, please reach out to the Ray developers on github.com/ray-project/ray/issues/\n===============================\n"
     ]
    }
   ],
   "source": [
    "my.func.remote(B(a=1))"
   ]
  },
  {
   "cell_type": "code",
   "execution_count": null,
   "metadata": {},
   "outputs": [],
   "source": []
  },
  {
   "cell_type": "code",
   "execution_count": 12,
   "metadata": {},
   "outputs": [],
   "source": [
    "b = B(a=1)"
   ]
  },
  {
   "cell_type": "code",
   "execution_count": 13,
   "metadata": {},
   "outputs": [
    {
     "data": {
      "text/plain": [
       "{'a': 1}"
      ]
     },
     "execution_count": 13,
     "metadata": {},
     "output_type": "execute_result"
    }
   ],
   "source": [
    "b.model_dump()"
   ]
  },
  {
   "cell_type": "code",
   "execution_count": 14,
   "metadata": {},
   "outputs": [
    {
     "data": {
      "text/plain": [
       "b'\\x80\\x04\\x95|\\x00\\x00\\x00\\x00\\x00\\x00\\x00\\x8c\\x08__main__\\x94\\x8c\\x01B\\x94\\x93\\x94)\\x81\\x94}\\x94(\\x8c\\x08__dict__\\x94}\\x94\\x8c\\x01a\\x94K\\x01s\\x8c\\x12__pydantic_extra__\\x94N\\x8c\\x17__pydantic_fields_set__\\x94\\x8f\\x94(h\\x07\\x90\\x8c\\x14__pydantic_private__\\x94Nub.'"
      ]
     },
     "execution_count": 14,
     "metadata": {},
     "output_type": "execute_result"
    }
   ],
   "source": [
    "import pickle\n",
    "\n",
    "pickle.dumps(b)"
   ]
  },
  {
   "cell_type": "code",
   "execution_count": 18,
   "metadata": {},
   "outputs": [
    {
     "data": {
      "text/plain": [
       "b'\\x80\\x05\\x95|\\x00\\x00\\x00\\x00\\x00\\x00\\x00\\x8c\\x08__main__\\x94\\x8c\\x01B\\x94\\x93\\x94)\\x81\\x94}\\x94(\\x8c\\x08__dict__\\x94}\\x94\\x8c\\x01a\\x94K\\x01s\\x8c\\x12__pydantic_extra__\\x94N\\x8c\\x17__pydantic_fields_set__\\x94\\x8f\\x94(h\\x07\\x90\\x8c\\x14__pydantic_private__\\x94Nub.'"
      ]
     },
     "execution_count": 18,
     "metadata": {},
     "output_type": "execute_result"
    }
   ],
   "source": [
    "pickle.dumps(b, protocol=5)"
   ]
  },
  {
   "cell_type": "code",
   "execution_count": null,
   "metadata": {},
   "outputs": [],
   "source": []
  }
 ],
 "metadata": {
  "kernelspec": {
   "display_name": "ragent",
   "language": "python",
   "name": "python3"
  },
  "language_info": {
   "codemirror_mode": {
    "name": "ipython",
    "version": 3
   },
   "file_extension": ".py",
   "mimetype": "text/x-python",
   "name": "python",
   "nbconvert_exporter": "python",
   "pygments_lexer": "ipython3",
   "version": "3.9.18"
  }
 },
 "nbformat": 4,
 "nbformat_minor": 2
}
